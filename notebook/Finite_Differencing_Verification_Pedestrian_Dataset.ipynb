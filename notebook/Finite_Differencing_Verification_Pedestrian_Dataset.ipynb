{
 "cells": [
  {
   "cell_type": "code",
   "execution_count": 1,
   "metadata": {},
   "outputs": [
    {
     "name": "stderr",
     "output_type": "stream",
     "text": [
      "┌ Info: Number of Julia Thread(s): 1\n",
      "└ @ RiskSensitiveSAC /home/haruki/Documents/2020-21_Autumn/RiskSensitiveSAC.jl/src/RiskSensitiveSAC.jl:39\n",
      "┌ Info: CUDA Device: GeForce RTX 2080 Ti\n",
      "└ @ RiskSensitiveSAC /home/haruki/Documents/2020-21_Autumn/RiskSensitiveSAC.jl/src/RiskSensitiveSAC.jl:40\n",
      "┌ Info: Python executable used by PyCall: /home/haruki/Documents/2020-21_Autumn/RiskSensitiveSAC.jl/env_trajectron++/bin/python3.6\n",
      "└ @ RiskSensitiveSAC /home/haruki/Documents/2020-21_Autumn/RiskSensitiveSAC.jl/src/RiskSensitiveSAC.jl:41\n"
     ]
    }
   ],
   "source": [
    "ENV[\"PYCALL_JL_RUNTIME_PYTHON\"] = Sys.which(\"python\")\n",
    "using Revise\n",
    "using RiskSensitiveSAC"
   ]
  },
  {
   "cell_type": "code",
   "execution_count": 2,
   "metadata": {},
   "outputs": [],
   "source": [
    "using Distributions\n",
    "using LinearAlgebra\n",
    "using PyCall\n",
    "using Random\n",
    "using RobotOS"
   ]
  },
  {
   "cell_type": "code",
   "execution_count": 82,
   "metadata": {},
   "outputs": [],
   "source": [
    "conf_file_name = \"config.json\";\n",
    "test_data_name = \"eth_test.pkl\";\n",
    "test_scene_id = 0;\n",
    "start_time_idx = 905;\n",
    "incl_robot_node= false;"
   ]
  },
  {
   "cell_type": "code",
   "execution_count": 83,
   "metadata": {},
   "outputs": [],
   "source": [
    "param = TrajectronSceneParameter(conf_file_name, test_data_name,\n",
    "                                     test_scene_id, start_time_idx,\n",
    "                                     incl_robot_node);\n",
    "scene_loader = TrajectronSceneLoader(param, verbose=false);"
   ]
  },
  {
   "cell_type": "code",
   "execution_count": 84,
   "metadata": {},
   "outputs": [],
   "source": [
    "ado_234_history = Vector{Vector{Float64}}();\n",
    "while true\n",
    "    ado_states = convert_nodes_to_str(fetch_ado_positions!(scene_loader, return_full_state=true));\n",
    "    if !in(\"PEDESTRIAN/234\", keys(ado_states))\n",
    "        break;\n",
    "    else\n",
    "        push!(ado_234_history, ado_states[\"PEDESTRIAN/234\"])\n",
    "    end\n",
    "end    "
   ]
  },
  {
   "cell_type": "code",
   "execution_count": 85,
   "metadata": {},
   "outputs": [
    {
     "name": "stdout",
     "output_type": "stream",
     "text": [
      "([0.0, 0.0], [0.0, 0.0])\n",
      "([0.0, 0.0], [0.0, 0.0])\n",
      "([0.0, 0.0], [0.0, 0.0])\n",
      "([0.0, 0.0], [0.0, 0.0])\n",
      "([0.0, 0.0], [0.0, 0.0])\n",
      "([0.0, 0.0], [0.0, 0.0])\n",
      "([0.0, 0.0], [0.0, 0.0])\n",
      "([0.0, 0.0], [0.0, 0.0])\n"
     ]
    }
   ],
   "source": [
    "for ii = 1 : length(ado_234_history)\n",
    "    #p_true = ado_234_history[ii][1:2];\n",
    "    v_true = ado_234_history[ii][3:4];\n",
    "    a_true = ado_234_history[ii][5:6];\n",
    "    \n",
    "    if ii == 1\n",
    "        v_pred = (ado_234_history[ii + 1][1:2] - ado_234_history[ii][1:2])/0.4;\n",
    "        a_pred = (ado_234_history[ii + 1][3:4] - ado_234_history[ii][3:4])/0.4;\n",
    "    elseif ii < length(ado_234_history)\n",
    "        v_pred = (ado_234_history[ii + 1][1:2] - ado_234_history[ii - 1][1:2])/0.8;\n",
    "        a_pred = (ado_234_history[ii + 1][3:4] - ado_234_history[ii - 1][3:4])/0.8;\n",
    "    else\n",
    "        v_pred = (ado_234_history[ii][1:2] - ado_234_history[ii - 1][1:2])/0.4;\n",
    "        a_pred = (ado_234_history[ii][3:4] - ado_234_history[ii - 1][3:4])/0.4;\n",
    "    end\n",
    "    println((v_pred - v_true, a_pred - a_true))\n",
    "end"
   ]
  },
  {
   "cell_type": "code",
   "execution_count": null,
   "metadata": {},
   "outputs": [],
   "source": []
  }
 ],
 "metadata": {
  "kernelspec": {
   "display_name": "Julia 1.5.2",
   "language": "julia",
   "name": "julia-1.5"
  },
  "language_info": {
   "file_extension": ".jl",
   "mimetype": "application/julia",
   "name": "julia",
   "version": "1.5.2"
  }
 },
 "nbformat": 4,
 "nbformat_minor": 4
}
